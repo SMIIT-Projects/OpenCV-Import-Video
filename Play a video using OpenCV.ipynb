{
 "cells": [
  {
   "cell_type": "code",
   "execution_count": 1,
   "metadata": {},
   "outputs": [],
   "source": [
    "# pip install opencv-python"
   ]
  },
  {
   "cell_type": "code",
   "execution_count": 2,
   "metadata": {},
   "outputs": [],
   "source": [
    "# Import cv2 library after install opencv-python \n",
    "import cv2\n",
    "import numpy as np\n",
    "import os\n",
    "os.chdir('E:\\\\prasad\\\\SMIIT\\\\Opencv\\\\OpenCV-Import Video') # for change Directory"
   ]
  },
  {
   "cell_type": "code",
   "execution_count": 3,
   "metadata": {},
   "outputs": [],
   "source": [
    "# Video's Path\n",
    "video_path1 = ('cars.avi')\n",
    "video_path2 = ('walking.avi')\n",
    "video_path3 = ('Traffic.mp4')"
   ]
  },
  {
   "cell_type": "code",
   "execution_count": 4,
   "metadata": {},
   "outputs": [],
   "source": [
    "#capture Video\n",
    "cap=cv2.VideoCapture(video_path3)\n",
    "\n",
    "while True: #cap.isOpened():\n",
    "    \n",
    "    #read images from video\n",
    "    response,frame=cap.read()\n",
    "    if response:\n",
    "        #resize images\n",
    "        image=cv2.resize(frame,(720,400))\n",
    "        #show images\n",
    "        cv2.imshow('video',image)\n",
    "        #wait to close window\n",
    "        if cv2.waitKey(25) & 0xff==ord('q'):   #when we press q button in our keybord that time window will break\n",
    "            break\n",
    "    else:\n",
    "        break\n",
    "#release capture video        \n",
    "cap.release()\n",
    "#close all windows\n",
    "cv2.destroyAllWindows()"
   ]
  },
  {
   "cell_type": "markdown",
   "metadata": {},
   "source": [
    "## Show Video in Multiple Frame"
   ]
  },
  {
   "cell_type": "code",
   "execution_count": 5,
   "metadata": {},
   "outputs": [],
   "source": [
    "#capture Video\n",
    "cap=cv2.VideoCapture(video_path2)\n",
    "while True: #cap.isOpened()\n",
    "    #read images from video\n",
    "    response,frame=cap.read()\n",
    "    if response:\n",
    "        #resize images\n",
    "        frame=cv2.resize(frame,(450,320))\n",
    "        frame2=np.hstack((frame,frame,frame)) #Create 3 frames horizontaly \n",
    "        frame4=np.vstack((frame2,frame2))    #Create 2 frames Vertical\n",
    "        #show images\n",
    "        cv2.imshow('Walking_Video',frame4)\n",
    "        #wait to close window\n",
    "        if cv2.waitKey(5) & 0xff ==ord('q'): #when we press q button in our keybord that time window will break\n",
    "            break\n",
    "    else:\n",
    "        break\n",
    "#release capture video \n",
    "cap.release()\n",
    "#close all windows\n",
    "cv2.destroyAllWindows()"
   ]
  },
  {
   "cell_type": "markdown",
   "metadata": {},
   "source": [
    "## Multiple Video in One Frame"
   ]
  },
  {
   "cell_type": "code",
   "execution_count": 6,
   "metadata": {},
   "outputs": [],
   "source": [
    "# Video's Path\n",
    "video_path1 = ('cars.avi')\n",
    "video_path2 = ('walking.avi')\n",
    "video_path3 = ('Traffic.mp4')"
   ]
  },
  {
   "cell_type": "code",
   "execution_count": 7,
   "metadata": {},
   "outputs": [],
   "source": [
    "#capture Video\n",
    "cap1=cv2.VideoCapture(video_path1)\n",
    "cap2=cv2.VideoCapture(video_path2)\n",
    "cap3=cv2.VideoCapture(video_path3)\n",
    "cap4=cv2.VideoCapture(0)\n",
    "while True: #cap.isOpened()\n",
    "    #read images from video\n",
    "    response1,frame1=cap1.read()\n",
    "    response2,frame2=cap2.read()\n",
    "    response3,frame3=cap3.read()\n",
    "    response4,frame4=cap4.read()\n",
    "    if response1:\n",
    "        #resize images\n",
    "        frame1=cv2.resize(frame1,(400,330))\n",
    "        frame2=cv2.resize(frame2,(400,330))\n",
    "        frame3=cv2.resize(frame3,(400,330))\n",
    "        frame4=cv2.resize(frame4,(400,330))\n",
    "        \n",
    "        frame_2=np.hstack((frame1,frame2)) #Create frames horizontaly \n",
    "        frame_02=np.hstack((frame3,frame4))  #Create frames horizontaly \n",
    "        frame_4=np.vstack((frame_2,frame_02))  #Create 2 frames Vertical\n",
    "\n",
    "        #show images\n",
    "        cv2.imshow('mult_video',frame_4)\n",
    "        #wait to close window\n",
    "        if cv2.waitKey(5) & 0xff ==ord('q'): #when we press q button in our keybord that time window will break\n",
    "            break\n",
    "    else:\n",
    "        break\n",
    "#release capture video \n",
    "cap4.release()\n",
    "#close all windows\n",
    "cv2.destroyAllWindows()"
   ]
  },
  {
   "cell_type": "markdown",
   "metadata": {},
   "source": [
    "# Thank You!"
   ]
  }
 ],
 "metadata": {
  "kernelspec": {
   "display_name": "Python 3",
   "language": "python",
   "name": "python3"
  },
  "language_info": {
   "codemirror_mode": {
    "name": "ipython",
    "version": 3
   },
   "file_extension": ".py",
   "mimetype": "text/x-python",
   "name": "python",
   "nbconvert_exporter": "python",
   "pygments_lexer": "ipython3",
   "version": "3.8.5"
  }
 },
 "nbformat": 4,
 "nbformat_minor": 4
}
